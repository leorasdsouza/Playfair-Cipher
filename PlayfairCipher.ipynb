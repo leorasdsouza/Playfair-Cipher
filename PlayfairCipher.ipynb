{
  "nbformat": 4,
  "nbformat_minor": 0,
  "metadata": {
    "colab": {
      "provenance": [],
      "authorship_tag": "ABX9TyM2wZwFPRVvYGQb7bc6zJz4",
      "include_colab_link": true
    },
    "kernelspec": {
      "name": "python3",
      "display_name": "Python 3"
    },
    "language_info": {
      "name": "python"
    }
  },
  "cells": [
    {
      "cell_type": "markdown",
      "metadata": {
        "id": "view-in-github",
        "colab_type": "text"
      },
      "source": [
        "<a href=\"https://colab.research.google.com/github/leorasdsouza/Playfair-Cipher/blob/main/PlayfairCipher.ipynb\" target=\"_parent\"><img src=\"https://colab.research.google.com/assets/colab-badge.svg\" alt=\"Open In Colab\"/></a>"
      ]
    },
    {
      "cell_type": "code",
      "execution_count": 2,
      "metadata": {
        "colab": {
          "base_uri": "https://localhost:8080/"
        },
        "id": "wNIzoPXflsTz",
        "outputId": "aceb606e-8334-47c4-cb32-17a3b5d63262"
      },
      "outputs": [
        {
          "output_type": "stream",
          "name": "stdout",
          "text": [
            "Enter key: MONARCHY\n",
            "Enter plaintext: INSTRUMENTS\n",
            "Encrypted text: GATLMZCLRQXA\n",
            "Decrypted text: INSTRUMENTS\n"
          ]
        }
      ],
      "source": [
        "def create_matrix(key):\n",
        "    alphabet = \"ABCDEFGHIKLMNOPQRSTUVWXYZ\"\n",
        "    matrix = []\n",
        "    key = \"\".join(dict.fromkeys(key.upper().replace(\"J\", \"I\") + alphabet))\n",
        "    for i in range(0, 25, 5):\n",
        "        matrix.append(list(key[i:i + 5]))\n",
        "    return matrix\n",
        "\n",
        "def find_position(matrix, char):\n",
        "    for row in range(5):\n",
        "        for col in range(5):\n",
        "            if matrix[row][col] == char:\n",
        "                return row, col\n",
        "\n",
        "def playfair_encrypt(plaintext, key):\n",
        "    matrix = create_matrix(key)\n",
        "    plaintext = plaintext.upper().replace(\"J\", \"I\").replace(\" \", \"\")\n",
        "    if len(plaintext) % 2 != 0:\n",
        "        plaintext += \"X\"\n",
        "    ciphertext = \"\"\n",
        "    for i in range(0, len(plaintext), 2):\n",
        "        a, b = plaintext[i], plaintext[i + 1]\n",
        "        row1, col1 = find_position(matrix, a)\n",
        "        row2, col2 = find_position(matrix, b)\n",
        "        if row1 == row2:\n",
        "            ciphertext = ciphertext + matrix[row1][(col1 + 1) % 5] + matrix[row2][(col2 + 1) % 5]\n",
        "        elif col1 == col2:\n",
        "            ciphertext = ciphertext + matrix[(row1 + 1) % 5][col1] + matrix[(row2 + 1) % 5][col2]\n",
        "        else:\n",
        "            ciphertext = ciphertext + matrix[row1][col2] + matrix[row2][col1]\n",
        "    return ciphertext\n",
        "\n",
        "def playfair_decrypt(text, key):\n",
        "    matrix = create_matrix(key)\n",
        "    text = text.upper().replace(\"J\", \"I\").replace(\" \", \"\")\n",
        "    decrypted_text = \"\"\n",
        "    for i in range(0, len(text), 2):\n",
        "        a, b = text[i], text[i + 1]\n",
        "        row1, col1 = find_position(matrix, a)\n",
        "        row2, col2 = find_position(matrix, b)\n",
        "        if row1 == row2:\n",
        "            decrypted_text = decrypted_text + matrix[row1][(col1 - 1) % 5] + matrix[row2][(col2 - 1) % 5]\n",
        "        elif col1 == col2:\n",
        "            decrypted_text = decrypted_text + matrix[(row1 - 1) % 5][col1] + matrix[(row2 - 1) % 5][col2]\n",
        "        else:\n",
        "            decrypted_text = decrypted_text + matrix[row1][col2] + matrix[row2][col1]\n",
        "    if decrypted_text[-1] == \"X\":\n",
        "        decrypted_text = decrypted_text[:-1]\n",
        "    return decrypted_text\n",
        "\n",
        "key = input(\"Enter key: \")\n",
        "plaintext = input(\"Enter plaintext: \")\n",
        "ciphertext = playfair_encrypt(plaintext, key)\n",
        "print(\"Encrypted text:\", ciphertext)\n",
        "\n",
        "print(\"Decrypted text:\", playfair_decrypt(ciphertext, key))\n"
      ]
    }
  ]
}